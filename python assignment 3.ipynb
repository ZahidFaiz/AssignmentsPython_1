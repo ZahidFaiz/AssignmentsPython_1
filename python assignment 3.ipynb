{
 "cells": [
  {
   "cell_type": "code",
   "execution_count": 1,
   "metadata": {},
   "outputs": [
    {
     "name": "stdout",
     "output_type": "stream",
     "text": [
      "test run of myreduce:  18\n"
     ]
    }
   ],
   "source": [
    "# 1.1 Write a Python Program to implement your own myreduce() function which works exactly\n",
    "# like Python's built-in function reduce()\n",
    "\n",
    "def myreduce(func, lst):\n",
    "    prev_res = lst[0]\n",
    "    for i in range(1 , len(lst)):\n",
    "        prev_res = func(prev_res, lst[i])\n",
    "    return prev_res\n",
    "\n",
    "lst = [1 , 3, 4, 10]\n",
    "print(\"test run of myreduce: \", myreduce(lambda x,y : x + y , lst))"
   ]
  },
  {
   "cell_type": "code",
   "execution_count": 2,
   "metadata": {},
   "outputs": [
    {
     "name": "stdout",
     "output_type": "stream",
     "text": [
      "test run of myfilter:  [4, 10]\n"
     ]
    }
   ],
   "source": [
    "# 1.2 Write a Python program to implement your own myfilter() function which works exactly\n",
    "# like Python's built-in function filter()\n",
    "\n",
    "def myfilter(func, lst):\n",
    "    out_l = []\n",
    "    for i in lst:\n",
    "        if(func(i) is True):\n",
    "            out_l.append(i)\n",
    "    return iter(out_l)\n",
    "\n",
    "iterator = myfilter(lambda x : x%2 == 0 , lst)  ##function to filter out the even number \n",
    "print(\"test run of myfilter: \", list(iterator))"
   ]
  },
  {
   "cell_type": "code",
   "execution_count": 3,
   "metadata": {},
   "outputs": [
    {
     "name": "stdout",
     "output_type": "stream",
     "text": [
      "['x', 'xx', 'xxx', 'xxxx', 'y', 'yy', 'yyy', 'yyyy', 'z', 'zz', 'zzz', 'zzzz']\n",
      "['x', 'y', 'z', 'xx', 'yy', 'zz', 'xxx', 'yyy', 'zzz', 'xxxx', 'yyyy', 'zzzz']\n",
      "[[2], [3], [4], [3], [4], [5], [4], [5], [6]]\n",
      "[[2, 3, 4, 5], [3, 4, 5, 6], [4, 5, 6, 7], [5, 6, 7, 8]]\n",
      "[(1, 1), (2, 1), (3, 1), (1, 2), (2, 2), (3, 2), (1, 3), (2, 3), (3, 3)]\n"
     ]
    }
   ],
   "source": [
    "# 2. Implement List comprehensions to produce the following lists.\n",
    "# Write List comprehensions to produce the following Lists\n",
    "s = \"xyz\"\n",
    "list1 = [x*n for x in s for n in range(1,5) ]\n",
    "print(list1)\n",
    "\n",
    "list1 = [x*n for n in range(1,5) for x in s]\n",
    "print(list1)\n",
    "\n",
    "list1 = [[i] for n in range(2, 5) for i in range(n, n+3)]\n",
    "print(list1)\n",
    "\n",
    "print([[i+n for n in range(0, 4)] for i in range(2, 6)])\n",
    "\n",
    "print([ (j, i) for i in range(1,4) for j in range(1, 4)])"
   ]
  },
  {
   "cell_type": "code",
   "execution_count": null,
   "metadata": {},
   "outputs": [],
   "source": []
  }
 ],
 "metadata": {
  "kernelspec": {
   "display_name": "Python 3",
   "language": "python",
   "name": "python3"
  },
  "language_info": {
   "codemirror_mode": {
    "name": "ipython",
    "version": 3
   },
   "file_extension": ".py",
   "mimetype": "text/x-python",
   "name": "python",
   "nbconvert_exporter": "python",
   "pygments_lexer": "ipython3",
   "version": "3.7.3"
  }
 },
 "nbformat": 4,
 "nbformat_minor": 2
}
