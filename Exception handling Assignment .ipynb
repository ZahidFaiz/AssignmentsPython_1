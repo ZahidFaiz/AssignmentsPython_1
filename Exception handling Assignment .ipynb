{
 "cells": [
  {
   "cell_type": "code",
   "execution_count": 3,
   "metadata": {},
   "outputs": [
    {
     "name": "stdout",
     "output_type": "stream",
     "text": [
      "Enter a: 1\n",
      "Enter b: 0\n",
      "exception occured\n"
     ]
    }
   ],
   "source": [
    "# 1. Write a function to compute 5/0 and use try/except to catch the exceptions.\n",
    "\n",
    "def func(a, b):\n",
    "    return a/b\n",
    "\n",
    "a  = int(input(\"Enter a: \"))\n",
    "b  = int(input(\"Enter b: \"))\n",
    "\n",
    "try:\n",
    "    func(a,b)\n",
    "except:\n",
    "    print(\"exception occured\")"
   ]
  },
  {
   "cell_type": "code",
   "execution_count": 16,
   "metadata": {},
   "outputs": [
    {
     "name": "stdout",
     "output_type": "stream",
     "text": [
      "Americans play Baseball\n",
      "Americans play Cricket\n",
      "Americans watch Baseball\n",
      "Americans watch Cricket\n",
      "Indians play Baseball\n",
      "Indians play Cricket\n",
      "Indians watch Baseball\n",
      "Indians watch Cricket\n"
     ]
    }
   ],
   "source": [
    "# 2. Implement a Python program to generate all sentences where subject is in\n",
    "# [\"Americans\", \"Indians\"] and verb is in [\"Play\", \"watch\"] and the object is in\n",
    "# [\"Baseball\",\"cricket\"].\n",
    "# Hint: Subject,Verb and Object should be declared in the program as shown below.\n",
    "# subjects=[\"Americans \",\"Indians\"]\n",
    "# verbs=[\"play\",\"watch\"]\n",
    "# objects=[\"Baseball\",\"Cricket\"]\n",
    "\n",
    "def sentences_d(subject = [\"Americans\",\"Indians\"] , verbs=[\"play\",\"watch\"] ,objects=[\"Baseball\",\"Cricket\"] ):\n",
    "     return [a +\" \"+b +\" \"+ c for a in subject for b in verbs for c in objects]\n",
    "    \n",
    "#default arguments are passed as lists in the functions, can be overwrited my taking input from console\n",
    "sent = sentences_d()\n",
    "\n",
    "for s in sent:\n",
    "    print(s)"
   ]
  },
  {
   "cell_type": "code",
   "execution_count": null,
   "metadata": {},
   "outputs": [],
   "source": []
  }
 ],
 "metadata": {
  "kernelspec": {
   "display_name": "Python 3",
   "language": "python",
   "name": "python3"
  },
  "language_info": {
   "codemirror_mode": {
    "name": "ipython",
    "version": 3
   },
   "file_extension": ".py",
   "mimetype": "text/x-python",
   "name": "python",
   "nbconvert_exporter": "python",
   "pygments_lexer": "ipython3",
   "version": "3.7.3"
  }
 },
 "nbformat": 4,
 "nbformat_minor": 2
}
