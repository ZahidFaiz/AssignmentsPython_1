{
 "cells": [
  {
   "cell_type": "code",
   "execution_count": 40,
   "metadata": {},
   "outputs": [
    {
     "name": "stdout",
     "output_type": "stream",
     "text": [
      "enter side number 1 4\n",
      "enter side number 2 5\n",
      "enter side number 3 3\n",
      "Area of triangle 6.0\n"
     ]
    }
   ],
   "source": [
    "# 1.1 Write a Python Program(with class concepts) to find the area of the triangle using the below\n",
    "# formula.\n",
    "\n",
    "# area = (s*(s-a)*(s-b)*(s-c)) ** 0.5\n",
    "# Function to take the length of the sides of triangle from user should be defined in the parent\n",
    "# class and function to calculate the area should be defined in subclass.\n",
    "\n",
    "class triangle:\n",
    "    def __init__(self):\n",
    "        sides = [int(input(\"enter side number \" + str(i) +\" \" )) for i in range(1,4)]\n",
    "        i = iter(sides)\n",
    "        self.a = next(i)\n",
    "        self.b = next(i)\n",
    "        self.c = next(i)\n",
    "        \n",
    "\n",
    "class area:\n",
    "    def __init__(self):\n",
    "        triangle.__init__(self)\n",
    "    def area_of_triangle(self):\n",
    "        a = self.a\n",
    "        b = self.b\n",
    "        c = self.c\n",
    "        s = (a + b + c)/2\n",
    "        s = (s*(s-a)*(s-b)*(s-c)) ** 0.5\n",
    "        return s\n",
    "\n",
    "t1 = area()         #object is initialized \n",
    "print(\"Area of triangle \", t1.area_of_triangle()) "
   ]
  },
  {
   "cell_type": "code",
   "execution_count": 65,
   "metadata": {},
   "outputs": [
    {
     "data": {
      "text/plain": [
       "['33314', 'rweadas']"
      ]
     },
     "execution_count": 65,
     "metadata": {},
     "output_type": "execute_result"
    }
   ],
   "source": [
    "# 1.2 Write a function filter_long_words() that takes a list of words and an integer n and returns\n",
    "# the list of words that are longer than n.\n",
    "\n",
    "def filter_long_words(words, n):\n",
    "    result = filter(lambda x: len(x) > n , words)\n",
    "    return list(result)\n",
    "\n",
    "lst = [\"abc\", \"dd\" ,\"a\" , \"33314\" , \"rweadas\"]              ##the input and output format is not specified but any input can be\n",
    "                                                            ## formatted into list \n",
    "\n",
    "print(filter_long_words(lst, 3))"
   ]
  },
  {
   "cell_type": "code",
   "execution_count": 70,
   "metadata": {},
   "outputs": [
    {
     "name": "stdout",
     "output_type": "stream",
     "text": [
      "input:  ['abc', 'dd', 'a', '33314', 'rweadas']\n",
      "output:  [3, 2, 1, 5, 7]\n"
     ]
    }
   ],
   "source": [
    "# 2.1 Write a Python program using function concept that maps list of words into a list of integers\n",
    "# representing the lengths of the corresponding words.\n",
    "\n",
    "def func(word):\n",
    "    return len(word)\n",
    "\n",
    "lst = [\"abc\", \"dd\" ,\"a\" , \"33314\" , \"rweadas\"]             \n",
    "\n",
    "result = map(func, lst)\n",
    "print(\"input: \" ,lst)\n",
    "print(\"output: \", list(result))"
   ]
  },
  {
   "cell_type": "code",
   "execution_count": 73,
   "metadata": {},
   "outputs": [
    {
     "name": "stdout",
     "output_type": "stream",
     "text": [
      "Enter word: b\n",
      "Is it a vowel:  False\n"
     ]
    }
   ],
   "source": [
    "# 2.2 Write a Python function which takes a character (i.e. a string of length 1) and returns True if\n",
    "# it is a vowel, False otherwise.\n",
    "\n",
    "def is_vowel(word):\n",
    "    vowels = ['a' , 'e' , 'i' , 'o' 'u']\n",
    "    if word in vowels:\n",
    "        return True\n",
    "    return False\n",
    "\n",
    "character = input(\"Enter word: \")\n",
    "print(\"Is it a vowel: \" , is_vowel(character))"
   ]
  },
  {
   "cell_type": "code",
   "execution_count": 74,
   "metadata": {},
   "outputs": [
    {
     "name": "stdout",
     "output_type": "stream",
     "text": [
      "True\n",
      "False\n"
     ]
    }
   ],
   "source": [
    "my_list1 = [{},{},{}]\n",
    "my_list2 = [{123,2345},{},{}]\n",
    "print(all(not d for d in my_list1))\n",
    "print(all(not d for d in my_list2))"
   ]
  }
 ],
 "metadata": {
  "kernelspec": {
   "display_name": "Python 3",
   "language": "python",
   "name": "python3"
  },
  "language_info": {
   "codemirror_mode": {
    "name": "ipython",
    "version": 3
   },
   "file_extension": ".py",
   "mimetype": "text/x-python",
   "name": "python",
   "nbconvert_exporter": "python",
   "pygments_lexer": "ipython3",
   "version": "3.7.3"
  }
 },
 "nbformat": 4,
 "nbformat_minor": 2
}
